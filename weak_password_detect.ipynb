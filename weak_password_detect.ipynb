{
 "cells": [
  {
   "cell_type": "markdown",
   "metadata": {},
   "source": [
    "# **Weak Password Detect**"
   ]
  },
  {
   "cell_type": "code",
   "execution_count": null,
   "metadata": {},
   "outputs": [],
   "source": [
    "import os\n",
    "import pickle\n",
    "from embedding import tfidf\n",
    "from models import svm_clf"
   ]
  },
  {
   "cell_type": "code",
   "execution_count": null,
   "metadata": {},
   "outputs": [],
   "source": [
    "def save_model(vectorizer, cls_model):\n",
    "    with open(\"./cache/weak_password/vectorizer.pickle\", \"wb\") as pickle_file:\n",
    "        pickle.dump(vectorizer, pickle_file)\n",
    "\n",
    "    with open(\"./cache/weak_password/svm_clf.pickle\", \"wb\") as pickle_file:\n",
    "        pickle.dump(cls_model, pickle_file)\n",
    "\n",
    "def load_model():\n",
    "    with open(\"./cache/weak_password/vectorizer.pickle\", \"rb\") as pickle_file:\n",
    "        vectorizer = pickle.load(pickle_file)\n",
    "\n",
    "    with open(\"./cache/weak_password/svm_clf.pickle\", \"rb\") as pickle_file:\n",
    "        cls_model = pickle.load(pickle_file)\n",
    "\n",
    "    return vectorizer, cls_model"
   ]
  },
  {
   "cell_type": "markdown",
   "metadata": {},
   "source": [
    "## **Train**"
   ]
  },
  {
   "cell_type": "code",
   "execution_count": null,
   "metadata": {},
   "outputs": [],
   "source": [
    "data_file_path = os.path.join(\"data/weak_password\", \"data.csv\")\n",
    "\n",
    "X, y,vectorizer = tfidf.make_vector(data_file_path)\n",
    "cls_model = svm_clf.train_and_eval(X, y)\n",
    "\n",
    "svm_clf.eval(vectorizer, cls_model)\n",
    "\n",
    "save_model(vectorizer, cls_model)"
   ]
  },
  {
   "cell_type": "markdown",
   "metadata": {},
   "source": [
    "## **Inference**"
   ]
  },
  {
   "cell_type": "code",
   "execution_count": null,
   "metadata": {},
   "outputs": [],
   "source": [
    "vectorizer, cls_model = load_model()\n",
    "\n",
    "password_list = [\n",
    "    \"WUt9IZzE0OQ7PkNE\",\n",
    "    \"elyass15@ajilent-ci\",\n",
    "    \"jerusalem393\",\n",
    "    \"g067057895\",\n",
    "    \"intel1\"\n",
    "]\n",
    "\n",
    "X_predict = vectorizer.transform(password_list)\n",
    "y_Predict = cls_model.predict(X_predict)\n",
    "\n",
    "for i, pwd in enumerate(password_list):\n",
    "    print(pwd, y_Predict[i])"
   ]
  }
 ],
 "metadata": {
  "language_info": {
   "name": "python"
  },
  "orig_nbformat": 4
 },
 "nbformat": 4,
 "nbformat_minor": 2
}
