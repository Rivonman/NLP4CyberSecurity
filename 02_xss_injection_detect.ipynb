{
 "cells": [
  {
   "cell_type": "markdown",
   "metadata": {},
   "source": [
    "# **XSS Injection Detect**"
   ]
  },
  {
   "cell_type": "code",
   "execution_count": 10,
   "metadata": {},
   "outputs": [],
   "source": [
    "import os\n",
    "import tensorflow as tf\n",
    "\n",
    "from data_loader.xss_datasets import build_dataset\n",
    "from models import simple_cnn, simple_lstm, simple_nn\n",
    "from utils import init_session\n",
    "\n",
    "tf.compat.v1.disable_eager_execution()\n",
    "\n",
    "init_session()"
   ]
  },
  {
   "cell_type": "markdown",
   "metadata": {},
   "source": [
    "## **Word2Vec Embedding**\n",
    "\n",
    "training word2vec model\n",
    "\n",
    "```\n",
    "python embedding/word2vec.py\n",
    "```"
   ]
  },
  {
   "cell_type": "markdown",
   "metadata": {},
   "source": [
    "## **Data Processing**\n",
    "\n",
    "process text data into word2vec embedding\n",
    "\n",
    "```\n",
    "python data_preprocess.py\n",
    "```"
   ]
  },
  {
   "cell_type": "markdown",
   "metadata": {},
   "source": [
    "## **Train & Eval** "
   ]
  },
  {
   "cell_type": "code",
   "execution_count": 11,
   "metadata": {},
   "outputs": [
    {
     "name": "stdout",
     "output_type": "stream",
     "text": [
      "train_size 15381, test_size 6593, input_num 258, dims_num 128\n"
     ]
    }
   ],
   "source": [
    "CACHE_DIR = \"./cache/xss_injection\"\n",
    "batch_size = 8  # 500\n",
    "epochs_num = 10 # 50  # 1\n"
   ]
  },
  {
   "cell_type": "markdown",
   "metadata": {},
   "source": [
    "### **simple nn model**"
   ]
  },
  {
   "cell_type": "code",
   "execution_count": 20,
   "metadata": {},
   "outputs": [
    {
     "name": "stdout",
     "output_type": "stream",
     "text": [
      "train_size 15381, test_size 6593, input_num 258, dims_num 128\n"
     ]
    }
   ],
   "source": [
    "train_generator, test_generator, train_size, test_size, input_num, dims_num = build_dataset(batch_size)\n",
    "print(\"train_size {}, test_size {}, input_num {}, dims_num {}\".format(train_size, test_size, input_num, dims_num))"
   ]
  },
  {
   "cell_type": "code",
   "execution_count": null,
   "metadata": {},
   "outputs": [],
   "source": [
    "simple_nn.train(train_generator, train_size, input_num, dims_num)"
   ]
  },
  {
   "cell_type": "code",
   "execution_count": 21,
   "metadata": {},
   "outputs": [
    {
     "name": "stdout",
     "output_type": "stream",
     "text": [
      "./cache/xss_injection/simple_nn_model\n",
      "Precision score is : 0.9764296754250387\n",
      "Recall score is : 0.9830772223302859\n"
     ]
    }
   ],
   "source": [
    "model_dir = os.path.join(CACHE_DIR, \"simple_nn_model\")\n",
    "print(model_dir)\n",
    "simple_nn.test(model_dir, test_generator, test_size, input_num, dims_num, batch_size=500)"
   ]
  },
  {
   "cell_type": "markdown",
   "metadata": {},
   "source": [
    "### **simple cnn model**"
   ]
  },
  {
   "cell_type": "code",
   "execution_count": 14,
   "metadata": {},
   "outputs": [
    {
     "name": "stdout",
     "output_type": "stream",
     "text": [
      "train_size 15381, test_size 6593, input_num 258, dims_num 128\n"
     ]
    }
   ],
   "source": [
    "train_generator, test_generator, train_size, test_size, input_num, dims_num = build_dataset(batch_size)\n",
    "print(\"train_size {}, test_size {}, input_num {}, dims_num {}\".format(train_size, test_size, input_num, dims_num))"
   ]
  },
  {
   "cell_type": "code",
   "execution_count": null,
   "metadata": {},
   "outputs": [],
   "source": [
    "simple_cnn.train(train_generator, train_size, input_num, dims_num)"
   ]
  },
  {
   "cell_type": "code",
   "execution_count": 15,
   "metadata": {},
   "outputs": [
    {
     "name": "stdout",
     "output_type": "stream",
     "text": [
      "./cache/xss_injection/simple_cnn_model\n",
      "Precision score is : 0.9948463825569871\n",
      "Recall score is : 0.9762692083252286\n"
     ]
    }
   ],
   "source": [
    "model_dir = os.path.join(CACHE_DIR, \"simple_cnn_model\")\n",
    "print(model_dir)\n",
    "simple_cnn.test(model_dir, test_generator, test_size, input_num, dims_num, batch_size)"
   ]
  },
  {
   "cell_type": "markdown",
   "metadata": {},
   "source": [
    "### **simple lstm model**"
   ]
  },
  {
   "cell_type": "code",
   "execution_count": 16,
   "metadata": {},
   "outputs": [
    {
     "name": "stdout",
     "output_type": "stream",
     "text": [
      "train_size 15381, test_size 6593, input_num 258, dims_num 128\n"
     ]
    }
   ],
   "source": [
    "train_generator, test_generator, train_size, test_size, input_num, dims_num = build_dataset(batch_size)\n",
    "print(\"train_size {}, test_size {}, input_num {}, dims_num {}\".format(train_size, test_size, input_num, dims_num))"
   ]
  },
  {
   "cell_type": "code",
   "execution_count": null,
   "metadata": {},
   "outputs": [],
   "source": [
    "simple_lstm.train(train_generator, train_size, input_num, dims_num)  "
   ]
  },
  {
   "cell_type": "code",
   "execution_count": 18,
   "metadata": {},
   "outputs": [
    {
     "name": "stdout",
     "output_type": "stream",
     "text": [
      "./cache/xss_injection/simple_lstm_model\n",
      "Precision score is : 0.9980311084859225\n",
      "Recall score is : 0.9869548286604362\n"
     ]
    }
   ],
   "source": [
    "model_dir = os.path.join(CACHE_DIR, \"simple_lstm_model\")\n",
    "print(model_dir)\n",
    "simple_lstm.test(model_dir, test_generator, test_size, input_num, dims_num, batch_size=128)"
   ]
  }
 ],
 "metadata": {
  "interpreter": {
   "hash": "8d2c8a46201f757d762b23581563dfde65d87ee95b324103821dadf6c48eed8c"
  },
  "kernelspec": {
   "display_name": "Python 3.7.6 ('sql-injection-detect')",
   "language": "python",
   "name": "python3"
  },
  "language_info": {
   "codemirror_mode": {
    "name": "ipython",
    "version": 3
   },
   "file_extension": ".py",
   "mimetype": "text/x-python",
   "name": "python",
   "nbconvert_exporter": "python",
   "pygments_lexer": "ipython3",
   "version": "3.7.7"
  },
  "orig_nbformat": 4,
  "vscode": {
   "interpreter": {
    "hash": "8d2c8a46201f757d762b23581563dfde65d87ee95b324103821dadf6c48eed8c"
   }
  }
 },
 "nbformat": 4,
 "nbformat_minor": 2
}
